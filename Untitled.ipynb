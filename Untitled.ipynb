{
 "cells": [
  {
   "cell_type": "markdown",
   "metadata": {},
   "source": [
    "Write a Python function to count the occurrences of each character in a given string. For example, given the string \"ab\", your function should return [['a', 1], ['b', 1]]."
   ]
  },
  {
   "cell_type": "markdown",
   "metadata": {},
   "source": [
    "“The new patients were an 18-year-old female student who returned from Britain on Friday, and a 61-year-old man whose granddaughter and domestic helper was infected previously, according to Dr Chuang Shuk-kwan, head of the Centre for Health Protection’s communicable disease branch.”"
   ]
  },
  {
   "cell_type": "code",
   "execution_count": 1,
   "metadata": {},
   "outputs": [
    {
     "name": "stdout",
     "output_type": "stream",
     "text": [
      "Please enter the string: The new patients were an 18-year-old female student who returned from Britain on Friday, and a 61-year-old man whose granddaughter and domestic helper was infected previously, according to Dr Chuang Shuk-kwan, head of the Centre for Health Protection’s communicable disease branch.\n",
      "[[',', 3], ['-', 5], ['.', 1], ['1', 2], ['6', 1], ['8', 1], ['B', 1], ['C', 2], ['D', 1], ['F', 1], ['H', 1], ['P', 1], ['S', 1], ['T', 1], ['a', 22], ['b', 2], ['c', 8], ['d', 14], ['e', 29], ['f', 5], ['g', 4], ['h', 11], ['i', 11], ['k', 2], ['l', 7], ['m', 6], ['n', 19], ['o', 15], ['p', 3], ['r', 18], ['s', 9], ['t', 15], ['u', 7], ['v', 1], ['w', 6], ['y', 4], ['’', 1]]\n"
     ]
    }
   ],
   "source": [
    "def count_occurrences_string(string):\n",
    "    string_no_space = string.replace(\" \", \"\")\n",
    "    list_string = list(string_no_space)\n",
    "#     list_char save which character saved\n",
    "    list_char = []\n",
    "#     list_char_count save which character saved and the times of the character's occurrences\n",
    "    list_char_count = []\n",
    "\n",
    "    for j in list_string:\n",
    "\n",
    "        if j not in list_char:\n",
    "\n",
    "            list_char.append(j)\n",
    "            count=0\n",
    "\n",
    "            for i in range(len(list_string)):\n",
    "\n",
    "                if j==list_string[i]:\n",
    "                    count+=1\n",
    "\n",
    "            list_char_count.append([j,count])\n",
    "\n",
    "    print(sorted(list_char_count))\n",
    "    \n",
    "count_occurrences_string(input(\"Please enter the string: \"))"
   ]
  },
  {
   "cell_type": "code",
   "execution_count": null,
   "metadata": {},
   "outputs": [],
   "source": []
  }
 ],
 "metadata": {
  "kernelspec": {
   "display_name": "Python 3",
   "language": "python",
   "name": "python3"
  },
  "language_info": {
   "codemirror_mode": {
    "name": "ipython",
    "version": 3
   },
   "file_extension": ".py",
   "mimetype": "text/x-python",
   "name": "python",
   "nbconvert_exporter": "python",
   "pygments_lexer": "ipython3",
   "version": "3.7.4"
  }
 },
 "nbformat": 4,
 "nbformat_minor": 2
}
